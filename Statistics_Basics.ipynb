{
  "nbformat": 4,
  "nbformat_minor": 0,
  "metadata": {
    "colab": {
      "provenance": []
    },
    "kernelspec": {
      "name": "python3",
      "display_name": "Python 3"
    },
    "language_info": {
      "name": "python"
    }
  },
  "cells": [
    {
      "cell_type": "markdown",
      "source": [],
      "metadata": {
        "id": "StBCr2ae_Dog"
      }
    },
    {
      "cell_type": "code",
      "execution_count": null,
      "metadata": {
        "id": "9xBsd36v-756"
      },
      "outputs": [],
      "source": []
    },
    {
      "cell_type": "markdown",
      "source": [
        "Qns1- What is statistics, and why is it important?\n",
        "\n",
        "Ans- Statistics is the branch of mathematics that deals with collecting, organizing, analyzing, interpreting, and presenting data.\n",
        "\n",
        "Importance of statistics:\n",
        "\n",
        "Understand patterns and trends.\n",
        "\n",
        "Make decisions based on data.\n",
        "\n",
        "Summarize complex information meaningfully."
      ],
      "metadata": {
        "id": "XcVsL9yU_H0K"
      }
    },
    {
      "cell_type": "markdown",
      "source": [
        "Qns-2 What are the two main types of statistics?\n",
        "\n",
        "Ans- There are two main types of statistics.\n",
        "\n",
        "1- Descriptive statistics-summarize and describe data\n",
        "\n",
        "2-Inferential statistics- draw conclusions and make predictions about a population based on a sample."
      ],
      "metadata": {
        "id": "9uxU5WtZ_sKH"
      }
    },
    {
      "cell_type": "markdown",
      "source": [
        "Qns -3 What are descriptive statistics?\n",
        "\n",
        "Ans- Descriptive statistics are methods used to summarize, organize, and present data in a clear and meaningful way using measures such as mean, median, mode, range, standard deviation, and graphs."
      ],
      "metadata": {
        "id": "yZTegCDfANe3"
      }
    },
    {
      "cell_type": "markdown",
      "source": [
        "Qns-4 What is inferential statistics?\n",
        "\n",
        "Ans- Inferential statistics involve using data from a sample to make predictions, conclusions, or generalizations about a larger population, often through techniques like hypothesis testing, confidence intervals, and regression analysis."
      ],
      "metadata": {
        "id": "zfPYIMJ9AXYC"
      }
    },
    {
      "cell_type": "markdown",
      "source": [
        "Qns-5 What is sampling in statistics?\n",
        "\n",
        "Ans- Sampling in statistics is the process of selecting a subset (sample) from a larger group (population) to analyze and draw conclusions about the entire population without examining every member."
      ],
      "metadata": {
        "id": "IEjLJPwWAfyx"
      }
    },
    {
      "cell_type": "markdown",
      "source": [
        "Qns-6  What are the different types of sampling methods?\n",
        "\n",
        "Ans- There are 5 types of methods for sampling.\n",
        "\n",
        "Simple Random Sampling: Every individual has an equal chance of being selected.\n",
        "\n",
        "Systematic Sampling: Selects every k-th individual from a list after a random start.\n",
        "\n",
        "Stratified Sampling: Samples are taken proportionally from distinct subgroups of the population.\n",
        "\n",
        "Cluster Sampling: Entire groups (clusters) are randomly selected and all members are surveyed.\n",
        "\n",
        "Convenience Sampling: Samples are chosen based on ease of access and availability.\n",
        "\n"
      ],
      "metadata": {
        "id": "N9L93CHdAsHB"
      }
    },
    {
      "cell_type": "markdown",
      "source": [
        "Qns-7  What is the difference between random and non-random sampling?\n",
        "\n",
        "Ans-  Random Sampling:\n",
        "Every member of the population has a known and equal chance of being selected.\n",
        "\n",
        " Non-Random Sampling:\n",
        "Samples are selected based on subjective judgment or convenience, not pure chance."
      ],
      "metadata": {
        "id": "YCCLURGuBCRC"
      }
    },
    {
      "cell_type": "markdown",
      "source": [
        "Qns-8 Define and give examples of qualitative and quantitative data?\n",
        "\n",
        "Ans- Qualitative Data (Categorical):\n",
        "Definition: Data that describes qualities or characteristics, and is usually non-numeric.\n",
        "Example: Eye color (blue, brown), gender (male, female), or brand names (Nike, Adidas).\n",
        "\n",
        "Quantitative Data (Numerical):\n",
        "Definition: Data that represents numeric values and can be measured or counted.\n",
        "Example: Age (25 years), height (170 cm), or number of books (12).\n",
        "\n"
      ],
      "metadata": {
        "id": "ECFrnj2ABQEp"
      }
    },
    {
      "cell_type": "markdown",
      "source": [
        "Qns-9 What are the different types of data in statistics?\n",
        "\n",
        "Ans- In statistics, data can be classified into different types based on their characteristics and the level of measurement. Here are the main types of data:\n",
        "\n",
        "1. Qualitative Data (Categorical)\n",
        "Definition: Describes qualities or characteristics.\n",
        "\n",
        "Example: Gender, color, brand names.\n",
        "\n",
        "Subtypes:\n",
        "\n",
        "Nominal: No specific order (e.g., red, blue, green).\n",
        "\n",
        "Ordinal: Has a meaningful order (e.g., rankings like 1st, 2nd, 3rd).\n",
        "\n",
        "2. Quantitative Data (Numerical)\n",
        "Definition: Represents numerical values that can be measured or counted.\n",
        "\n",
        "Example: Height, weight, age.\n",
        "\n",
        "Subtypes:\n",
        "\n",
        "Discrete: Countable values (e.g., number of children).\n",
        "\n",
        "Continuous: Can take any value within a range (e.g., height, time)."
      ],
      "metadata": {
        "id": "JtOdo5NRBp4X"
      }
    },
    {
      "cell_type": "markdown",
      "source": [
        "Qns-10 Explain nominal, ordinal, interval, and ratio levels of measurement?\n",
        "\n",
        "Ans- Nominal: Categories, no order (e.g., Colors).\n",
        "\n",
        "Ordinal: Categories with a meaningful order (e.g., Rankings).\n",
        "\n",
        "Interval: Ordered data with equal intervals but no true zero (e.g., Temperature in Celsius).\n",
        "\n",
        "Ratio: Ordered data with equal intervals and a true zero (e.g., Weight, Height)."
      ],
      "metadata": {
        "id": "TfW0rdNSB9jY"
      }
    },
    {
      "cell_type": "markdown",
      "source": [
        "Qns-11 What is the measure of central tendency?\n",
        "\n",
        "Ans- The measure of central tendency is a statistical concept that describes the center or typical value of a dataset. It helps summarize a set of data by identifying the value that represents the \"middle\" of the distribution. The three main measures of central tendency are: Mean, Median, Mode."
      ],
      "metadata": {
        "id": "P3IAPA-gCZP0"
      }
    },
    {
      "cell_type": "markdown",
      "source": [
        "Qns-12 Define mean, median, and mode?\n",
        "\n",
        "Ans- Mean (Average)\n",
        "Definition: The mean is the sum of all the values in a dataset divided by the number of values. It represents the \"average\" value of the dataset.\n",
        "\n",
        "Formula: Total values/No of values\n",
        "\n",
        "Median (Middle Value)\n",
        "Definition: The median is the middle value when the dataset is ordered from smallest to largest. If there is an even number of values, the median is the average of the two middle values.\n",
        "Example:\n",
        "\n",
        "For the dataset\n",
        "[1,3,5], the median is 3 (middle value).\n",
        "\n",
        "Mode (Most Frequent Value)\n",
        "Definition: The mode is the value that appears most frequently in the dataset.\n",
        "\n",
        "Example: For the dataset\n",
        "[1,2,2,3,3,3,4], the mode is 3 (since it appears the most)."
      ],
      "metadata": {
        "id": "1hR9IBrxCrBq"
      }
    },
    {
      "cell_type": "markdown",
      "source": [
        "Qns-13 What is the significance of the measure of central tendency?\n",
        "\n",
        "Ans- The measure of central tendency is significant because it provides a single value that represents the center or typical value of a dataset."
      ],
      "metadata": {
        "id": "H65a3ticDmS0"
      }
    },
    {
      "cell_type": "markdown",
      "source": [
        "Qns-14 What is variance, and how is it calculated?\n",
        "\n",
        "Ans- Variance helps in understanding the spread of data: A higher variance means the data points are more spread out from the mean, and a lower variance means the data points are closer to the mean.\n",
        "\n",
        "Example:\n",
        "Let’s calculate the variance for the dataset:\n",
        "[4,6,8,10].\n",
        "\n",
        "Mean (μ):\n",
        "Mean=\n",
        "4+6+8+10/4\n",
        " =7\n",
        "\n",
        "Deviations (subtract the mean from each value):\n",
        "4−7=−3,6−7=−1,8−7=1,10−7=3\n",
        "\n",
        "Squared Deviations:\n",
        "(−3)\n",
        "2\n",
        " =9,(−1)\n",
        "2\n",
        " =1,1\n",
        "2\n",
        " =1,3\n",
        "2\n",
        " =9\n",
        "Average of Squared Deviations:\n",
        "\n",
        "Variance\n",
        "9+1+1+9/4\n",
        " =5\n",
        " So, the variance of this dataset is 5."
      ],
      "metadata": {
        "id": "q61jI5tID8Yp"
      }
    },
    {
      "cell_type": "markdown",
      "source": [
        "Qns-15 What is standard deviation, and why is it important?\n",
        "\n",
        "Ans-Standard deviation is a measure of the dispersion or spread of a set of values. It indicates how much the individual data points deviate from the mean of the dataset. The larger the standard deviation, the more spread out the values are. Conversely, a smaller standard deviation indicates that the values are closer to the mean.\n",
        "\n",
        "Importance of Standard Deviation:\n",
        "Understanding Data Spread:\n",
        "\n",
        "It helps us understand how spread out the data is around the mean. If the standard deviation is large, the data is spread out widely, and if it's small, the data points are clustered close to the mean.\n",
        "\n",
        "Comparing Data Distributions:\n",
        "\n",
        "It allows for the comparison of the variability between different datasets. For example, two datasets might have the same mean but different standard deviations, indicating different levels of consistency.\n"
      ],
      "metadata": {
        "id": "_td23toWIsip"
      }
    },
    {
      "cell_type": "markdown",
      "source": [
        "Qns-16  Define and explain the term range in statistics?\n",
        "\n",
        "Ans- The range is the difference between the maximum and minimum values in a dataset. It provides a measure of how spread out the values in the dataset are.\n",
        "\n",
        "Formula for Range:\n",
        "Range\n",
        "=\n",
        "Maximum value\n",
        "−\n",
        "Minimum value\n"
      ],
      "metadata": {
        "id": "I7M5YpGhJI28"
      }
    },
    {
      "cell_type": "markdown",
      "source": [
        "Qns-17 What is the difference between variance and standard deviation?\n",
        "\n",
        "Ans- Variance gives the average squared deviation from the mean (in squared units).\n",
        "\n",
        "Standard Deviation is the square root of the variance, in the same units as the original data, making it more interpretable."
      ],
      "metadata": {
        "id": "ZcTOQOghJmKv"
      }
    },
    {
      "cell_type": "markdown",
      "source": [
        "Qns-18 What is skewness in a dataset?\n",
        "\n",
        "Ans-  Skewness refers to the asymmetry or lack of symmetry in the distribution of data. It measures the extent to which data points are distributed unevenly around the mean. In simple terms, skewness tells you whether the data tends to have more values on one side (left or right) of the mean."
      ],
      "metadata": {
        "id": "OA1xP2NFKVK0"
      }
    },
    {
      "cell_type": "markdown",
      "source": [
        "Qns-19  What does it mean if a dataset is positively or negatively skewed?\n",
        "\n",
        "Ans- When a dataset is positively or negatively skewed, it indicates the direction in which the tail of the distribution is stretched, providing insight into how the data points are distributed relative to the mean and median."
      ],
      "metadata": {
        "id": "XbKtsIliKoyX"
      }
    },
    {
      "cell_type": "markdown",
      "source": [
        "Qns-20 Define and explain kurtosis?\n",
        "\n",
        "Ans- Kurtosis is a statistical measure used to describe the distribution of data, specifically the \"tailedness\" or the sharpness of the peak of a data distribution compared to a normal distribution. It provides insight into the extent to which data points are concentrated in the tails (extremes) of the distribution."
      ],
      "metadata": {
        "id": "gqAmf0oXLuQG"
      }
    },
    {
      "cell_type": "markdown",
      "source": [
        "Qns 21-What is the purpose of covariance?\n",
        "\n",
        "Ans- Covariance is a statistical measure used to determine the relationship between two random variables. It indicates the direction of the linear relationship between the variables — that is, whether they tend to increase or decrease together."
      ],
      "metadata": {
        "id": "A4jFV9gRMCMy"
      }
    },
    {
      "cell_type": "markdown",
      "source": [
        "Qns-22 What does correlation measure in statistics?\n",
        "\n",
        "Ans-Correlation in statistics measures the strength and direction of the linear relationship between two variables. It provides a numerical value that indicates how closely the variables are related to each other.\n",
        "\n",
        " Correlation Tells Us:\n",
        "\n",
        "Positive correlation implies that as one variable increases, the other variable tends to increase.\n",
        "\n",
        "Negative correlation implies that as one variable increases, the other variable tends to decrease.\n",
        "\n",
        "Zero correlation indicates no predictable linear relationship."
      ],
      "metadata": {
        "id": "WTCgSX9sMOsB"
      }
    },
    {
      "cell_type": "markdown",
      "source": [
        "Qns-23 What is the difference between covariance and correlation?\n",
        "\n",
        "Ans- Covariance and correlation both measure the relationship between two variables, but the key difference lies in how they are scaled. Covariance indicates the direction of the relationship (positive or negative) and the degree to which two variables change together, but its value is affected by the scale of the variables, making it difficult to interpret directly. Correlation, on the other hand, normalizes the covariance by dividing it by the standard deviations of the variables, which results in a value between -1 and 1. This makes correlation easier to interpret, as it provides a standardized measure of the strength and direction of the linear relationship, regardless of the units of the variables. While covariance can range from negative to positive infinity, correlation is always between -1 (perfect negative relationship) and +1 (perfect positive relationship)."
      ],
      "metadata": {
        "id": "VTuwpnNkMvv1"
      }
    },
    {
      "cell_type": "markdown",
      "source": [
        "Qns-24 What are some real-world applications of statistics?\n",
        "\n",
        "Ans- Healthcare: Statistics helps analyze medical data to improve patient care and public health decisions.\n",
        "\n",
        "Business: It aids in forecasting sales, understanding consumer behavior, and optimizing operations.\n",
        "\n",
        "Education: Used to evaluate student performance and the effectiveness of teaching methods.\n",
        "\n",
        "Government: Supports policy-making and resource allocation through census and survey analysis.\n",
        "\n",
        "Sports: Helps assess player performance and develop winning strategies."
      ],
      "metadata": {
        "id": "yAVY46frNBzI"
      }
    },
    {
      "cell_type": "markdown",
      "source": [
        "Qns-1 How do you calculate the mean, median, and mode of a dataset?"
      ],
      "metadata": {
        "id": "Ma891jr8kXgO"
      }
    },
    {
      "cell_type": "code",
      "source": [
        "# Ans\n",
        "import pandas as pd\n",
        "from scipy import stats\n",
        "data = {\n",
        "    'Test Score': [85, 78, 90, 70, 95, 78, 90,78]\n",
        "}\n",
        "\n",
        "df = pd.DataFrame(data)\n",
        "# Mean\n",
        "mean_value = df['Test Score'].mean()\n",
        "\n",
        "# Median\n",
        "median_value = df['Test Score'].median()\n",
        "\n",
        "# Mode\n",
        "mode_value = df['Test Score'].mode()\n",
        "print(\"Mean:\", mean_value)\n",
        "print(\"Median:\", median_value)\n",
        "print(\"Mode:\", mode_value.tolist())\n",
        "\n"
      ],
      "metadata": {
        "colab": {
          "base_uri": "https://localhost:8080/"
        },
        "id": "8kVYhleikdo1",
        "outputId": "2db36d89-6322-4b53-87f9-25b1186f7dc7"
      },
      "execution_count": 2,
      "outputs": [
        {
          "output_type": "stream",
          "name": "stdout",
          "text": [
            "Mean: 83.0\n",
            "Median: 81.5\n",
            "Mode: [78]\n"
          ]
        }
      ]
    },
    {
      "cell_type": "markdown",
      "source": [
        "Qns-2  Write a Python program to compute the variance and standard deviation of a dataset?"
      ],
      "metadata": {
        "id": "DHstf2illAhY"
      }
    },
    {
      "cell_type": "code",
      "source": [
        "#Ans\n",
        "import statistics\n",
        "data = [85, 78, 90, 70, 95, 78, 90]\n",
        "variance_stats = statistics.variance(data)\n",
        "std_dev_stats = statistics.stdev(data)\n",
        "\n",
        "\n",
        "print(\"Using statistics module:\")\n",
        "print(f\"Variance: {variance_stats:.2f}\")\n",
        "print(f\"Standard Deviation: {std_dev_stats:.2f}\")\n"
      ],
      "metadata": {
        "colab": {
          "base_uri": "https://localhost:8080/"
        },
        "id": "mlvNyW0NlGAA",
        "outputId": "2e3531a3-5564-4180-9013-bed3de47e4ce"
      },
      "execution_count": 3,
      "outputs": [
        {
          "output_type": "stream",
          "name": "stdout",
          "text": [
            "Using statistics module:\n",
            "Variance: 76.90\n",
            "Standard Deviation: 8.77\n"
          ]
        }
      ]
    },
    {
      "cell_type": "markdown",
      "source": [
        "Qns-3 Create a dataset and classify it into nominal, ordinal, interval, and ratio types?"
      ],
      "metadata": {
        "id": "KlIpmCQQlgmq"
      }
    },
    {
      "cell_type": "code",
      "source": [
        "#Ans\n",
        "import pandas as pd\n",
        "data = {\n",
        "    'Student ID': [101, 102, 103, 104, 105],\n",
        "    'Name': ['Alice', 'Bob', 'Charlie', 'Diana', 'Ethan'],\n",
        "    'Gender': ['Female', 'Male', 'Male', 'Female', 'Other'],\n",
        "    'Year Level': ['Freshman', 'Sophomore', 'Junior', 'Senior', 'Senior'],\n",
        "    'Satisfaction Level': ['Very Satisfied', 'Neutral', 'Satisfied', 'Very Dissatisfied', 'Dissatisfied'],\n",
        "    'Temperature (°C)': [22, 24, 21, 23, 25],\n",
        "    'Test Score': [88, 76, 92, 85, 90],\n",
        "    'Height (cm)': [165, 180, 170, 160, 175]\n",
        "}\n",
        "\n",
        "df = pd.DataFrame(data)\n",
        "print(df)\n",
        "\n",
        "column_types = {\n",
        "    'Student ID': 'Nominal',\n",
        "    'Name': 'Nominal',\n",
        "    'Gender': 'Nominal',\n",
        "    'Year Level': 'Ordinal',  # Freshman < Sophomore < Junior < Senior\n",
        "    'Satisfaction Level': 'Ordinal',  # Ordered level of satisfaction\n",
        "    'Temperature (°C)': 'Interval',  # 0°C is not a true zero\n",
        "    'Test Score': 'Ratio',  # True zero and numeric\n",
        "    'Height (cm)': 'Ratio'  # True zero and supports meaningful ratios\n",
        "}\n",
        "\n",
        "# Display classifications\n",
        "for column, level in column_types.items():\n",
        "    print(f\"{column}: {level}\")\n",
        "\n"
      ],
      "metadata": {
        "colab": {
          "base_uri": "https://localhost:8080/"
        },
        "collapsed": true,
        "id": "MTQSmAQalzBl",
        "outputId": "b28ef42e-b138-432e-e863-5a4edd1b036b"
      },
      "execution_count": 5,
      "outputs": [
        {
          "output_type": "stream",
          "name": "stdout",
          "text": [
            "   Student ID     Name  Gender Year Level Satisfaction Level  \\\n",
            "0         101    Alice  Female   Freshman     Very Satisfied   \n",
            "1         102      Bob    Male  Sophomore            Neutral   \n",
            "2         103  Charlie    Male     Junior          Satisfied   \n",
            "3         104    Diana  Female     Senior  Very Dissatisfied   \n",
            "4         105    Ethan   Other     Senior       Dissatisfied   \n",
            "\n",
            "   Temperature (°C)  Test Score  Height (cm)  \n",
            "0                22          88          165  \n",
            "1                24          76          180  \n",
            "2                21          92          170  \n",
            "3                23          85          160  \n",
            "4                25          90          175  \n",
            "Student ID: Nominal\n",
            "Name: Nominal\n",
            "Gender: Nominal\n",
            "Year Level: Ordinal\n",
            "Satisfaction Level: Ordinal\n",
            "Temperature (°C): Interval\n",
            "Test Score: Ratio\n",
            "Height (cm): Ratio\n"
          ]
        }
      ]
    },
    {
      "cell_type": "markdown",
      "source": [
        "Qns-4  Implement sampling techniques like random sampling and stratified sampling?"
      ],
      "metadata": {
        "id": "D_7zzUqgmJNY"
      }
    },
    {
      "cell_type": "code",
      "source": [
        "#Ans\n",
        "import pandas as pd\n",
        "\n",
        "# Sample dataset\n",
        "data = {\n",
        "    'Student ID': [101, 102, 103, 104, 105, 106, 107, 108],\n",
        "    'Name': ['Alice', 'Bob', 'Charlie', 'Diana', 'Ethan', 'Fiona', 'George', 'Hana'],\n",
        "    'Gender': ['Female', 'Male', 'Male', 'Female', 'Other', 'Female', 'Male', 'Female'],\n",
        "    'Grade Level': ['Freshman', 'Sophomore', 'Junior', 'Senior', 'Senior', 'Junior', 'Sophomore', 'Freshman'],\n",
        "    'Test Score': [88, 76, 92, 85, 90, 79, 84, 91]\n",
        "}\n",
        "\n",
        "df = pd.DataFrame(data)\n",
        "print(\"Full Dataset:\\n\", df)\n",
        "# Random sample of 3 students\n",
        "random_sample = df.sample(n=3, random_state=42)\n",
        "print(\"\\nRandom Sample:\\n\", random_sample)\n",
        "# Stratified sampling by Gender: 1 from each group\n",
        "stratified_sample = df.groupby('Gender', group_keys=False).apply(lambda x: x.sample(n=1, random_state=42))\n",
        "print(\"\\nStratified Sample by Gender:\\n\", stratified_sample)\n"
      ],
      "metadata": {
        "colab": {
          "base_uri": "https://localhost:8080/"
        },
        "id": "mUdoc7S7mTxH",
        "outputId": "7c904480-6f71-4d7c-b235-6b2843b5b53a"
      },
      "execution_count": 6,
      "outputs": [
        {
          "output_type": "stream",
          "name": "stdout",
          "text": [
            "Full Dataset:\n",
            "    Student ID     Name  Gender Grade Level  Test Score\n",
            "0         101    Alice  Female    Freshman          88\n",
            "1         102      Bob    Male   Sophomore          76\n",
            "2         103  Charlie    Male      Junior          92\n",
            "3         104    Diana  Female      Senior          85\n",
            "4         105    Ethan   Other      Senior          90\n",
            "5         106    Fiona  Female      Junior          79\n",
            "6         107   George    Male   Sophomore          84\n",
            "7         108     Hana  Female    Freshman          91\n",
            "\n",
            "Random Sample:\n",
            "    Student ID   Name  Gender Grade Level  Test Score\n",
            "1         102    Bob    Male   Sophomore          76\n",
            "5         106  Fiona  Female      Junior          79\n",
            "0         101  Alice  Female    Freshman          88\n",
            "\n",
            "Stratified Sample by Gender:\n",
            "    Student ID   Name  Gender Grade Level  Test Score\n",
            "3         104  Diana  Female      Senior          85\n",
            "1         102    Bob    Male   Sophomore          76\n",
            "4         105  Ethan   Other      Senior          90\n"
          ]
        },
        {
          "output_type": "stream",
          "name": "stderr",
          "text": [
            "<ipython-input-6-846bb04d7211>:19: DeprecationWarning: DataFrameGroupBy.apply operated on the grouping columns. This behavior is deprecated, and in a future version of pandas the grouping columns will be excluded from the operation. Either pass `include_groups=False` to exclude the groupings or explicitly select the grouping columns after groupby to silence this warning.\n",
            "  stratified_sample = df.groupby('Gender', group_keys=False).apply(lambda x: x.sample(n=1, random_state=42))\n"
          ]
        }
      ]
    },
    {
      "cell_type": "markdown",
      "source": [
        "Qns-5 Write a Python function to calculate the range of a dataset?"
      ],
      "metadata": {
        "id": "FJaDafynm0Zr"
      }
    },
    {
      "cell_type": "code",
      "source": [
        "#Ans\n",
        "def calculate_range(data):\n",
        "    if not data:\n",
        "        return None  # Handle empty dataset\n",
        "    return max(data) - min(data)\n",
        "\n",
        "# Example usage\n",
        "dataset = [85, 78, 90, 70, 95, 78, 90]\n",
        "range_value = calculate_range(dataset)\n",
        "\n",
        "print(\"Range of dataset:\", range_value)\n"
      ],
      "metadata": {
        "colab": {
          "base_uri": "https://localhost:8080/"
        },
        "id": "Q-lIh-UXm5Fs",
        "outputId": "66447a8e-9c1c-4699-c08d-e2d998be9b71"
      },
      "execution_count": 7,
      "outputs": [
        {
          "output_type": "stream",
          "name": "stdout",
          "text": [
            "Range of dataset: 25\n"
          ]
        }
      ]
    },
    {
      "cell_type": "markdown",
      "source": [
        "Qns-6 Create a dataset and plot its histogram to visualize skewness?"
      ],
      "metadata": {
        "id": "53sIoZQHnJD7"
      }
    },
    {
      "cell_type": "code",
      "source": [
        "#Ans\n",
        "import numpy as np\n",
        "import pandas as pd\n",
        "import matplotlib.pyplot as plt\n",
        "from scipy.stats import skew\n",
        "\n",
        "data = np.random.exponential(scale=2, size=1000)\n",
        "\n",
        "print(\"Skewness:\", skew(data))\n",
        "\n",
        "# Plot histogram\n",
        "plt.hist(data, bins=30, color='skyblue', edgecolor='black')\n",
        "plt.title('Histogram Showing Skewness')\n",
        "plt.xlabel('Value')\n",
        "plt.ylabel('Frequency')\n",
        "plt.show()\n"
      ],
      "metadata": {
        "colab": {
          "base_uri": "https://localhost:8080/",
          "height": 489
        },
        "id": "EcDpKfT0nNZn",
        "outputId": "d987982c-a90c-4276-c331-6077cb5224ec"
      },
      "execution_count": 8,
      "outputs": [
        {
          "output_type": "stream",
          "name": "stdout",
          "text": [
            "Skewness: 1.7574582030353108\n"
          ]
        },
        {
          "output_type": "display_data",
          "data": {
            "text/plain": [
              "<Figure size 640x480 with 1 Axes>"
            ],
            "image/png": "[encoded data removed]"
          },
          "metadata": {}
        }
      ]
    },
    {
      "cell_type": "markdown",
      "source": [
        "Qns-7 Calculate skewness and kurtosis of a dataset using Python libraries?"
      ],
      "metadata": {
        "id": "mTbrlKntn1C1"
      }
    },
    {
      "cell_type": "code",
      "source": [
        "#ANS\n",
        "import numpy as np\n",
        "import pandas as pd\n",
        "\n",
        "# Sample dataset\n",
        "data = np.random.normal(loc=0, scale=1, size=1000)\n",
        "\n",
        "\n",
        "# Using pandas\n",
        "df = pd.Series(data)\n",
        "print(\"\\nUsing pandas:\")\n",
        "print(\"Skewness:\", df.skew())\n",
        "print(\"Kurtosis:\", df.kurt())  # Also excess kurtosis\n"
      ],
      "metadata": {
        "colab": {
          "base_uri": "https://localhost:8080/"
        },
        "id": "tMvSX1xon5yD",
        "outputId": "0def5eb1-5b43-4e74-e6c5-24e811c6844f"
      },
      "execution_count": 10,
      "outputs": [
        {
          "output_type": "stream",
          "name": "stdout",
          "text": [
            "\n",
            "Using pandas:\n",
            "Skewness: 0.056034363953716866\n",
            "Kurtosis: -0.2522296148282228\n"
          ]
        }
      ]
    },
    {
      "cell_type": "markdown",
      "source": [
        "Qns-8 Generate a dataset and demonstrate positive and negative skewness?"
      ],
      "metadata": {
        "id": "24edycfNoQfe"
      }
    },
    {
      "cell_type": "code",
      "source": [
        "#Ans\n",
        "import numpy as np\n",
        "from scipy.stats import skew\n",
        "\n",
        "# Generate datasets\n",
        "data_positive = np.random.exponential(scale=2, size=1000)\n",
        "data_negative = -np.random.exponential(scale=2, size=1000)\n",
        "\n",
        "# Calculate skewness\n",
        "print(f\"Positive Skewness: {skew(data_positive):.2f}\")\n",
        "print(f\"Negative Skewness: {skew(data_negative):.2f}\")\n"
      ],
      "metadata": {
        "colab": {
          "base_uri": "https://localhost:8080/"
        },
        "id": "89wBMyEUouqv",
        "outputId": "7ef5007e-9efe-40a9-d92b-b4fd7925ec03"
      },
      "execution_count": 11,
      "outputs": [
        {
          "output_type": "stream",
          "name": "stdout",
          "text": [
            "Positive Skewness: 1.82\n",
            "Negative Skewness: -2.15\n"
          ]
        }
      ]
    },
    {
      "cell_type": "markdown",
      "source": [
        "Qns-9  Write a Python script to calculate covariance between two datasets?"
      ],
      "metadata": {
        "id": "L2t2RP4mo8H6"
      }
    },
    {
      "cell_type": "code",
      "source": [
        "#Ans\n",
        "import numpy as np\n",
        "data1 = np.array([85, 78, 90, 70, 95])\n",
        "data2 = np.array([88, 76, 92, 85, 90])\n",
        "\n",
        "covariance = np.cov(data1, data2)[0, 1]\n",
        "\n",
        "# Print the covariance\n",
        "print(f\"Covariance between the datasets: {covariance:.2f}\")\n"
      ],
      "metadata": {
        "colab": {
          "base_uri": "https://localhost:8080/"
        },
        "id": "FEnI4NSMpBUe",
        "outputId": "7437eeeb-72b8-4bbd-87fb-a200ddcc11ac"
      },
      "execution_count": 12,
      "outputs": [
        {
          "output_type": "stream",
          "name": "stdout",
          "text": [
            "Covariance between the datasets: 39.10\n"
          ]
        }
      ]
    },
    {
      "cell_type": "markdown",
      "source": [
        "Qns-10  Write a Python script to calculate the correlation coefficient between two datasets"
      ],
      "metadata": {
        "id": "t6_FR0_TpTfQ"
      }
    },
    {
      "cell_type": "code",
      "source": [
        "#Ans\n",
        "import numpy as np\n",
        "\n",
        "# Sample datasets\n",
        "data1 = np.array([85, 78, 90, 70, 95])\n",
        "data2 = np.array([88, 76, 92, 85, 90])\n",
        "\n",
        "# Calculate correlation coefficient using NumPy\n",
        "correlation_coefficient = np.corrcoef(data1, data2)[0, 1]\n",
        "\n",
        "# Print the correlation coefficient\n",
        "print(f\"Correlation Coefficient between the datasets: {correlation_coefficient:.2f}\")\n"
      ],
      "metadata": {
        "colab": {
          "base_uri": "https://localhost:8080/"
        },
        "id": "mVHwy1gMpYJo",
        "outputId": "a644ea0b-e5c9-4770-9808-9ebfab3356a8"
      },
      "execution_count": 13,
      "outputs": [
        {
          "output_type": "stream",
          "name": "stdout",
          "text": [
            "Correlation Coefficient between the datasets: 0.63\n"
          ]
        }
      ]
    },
    {
      "cell_type": "markdown",
      "source": [
        "Qns-11 Create a scatter plot to visualize the relationship between two variables?"
      ],
      "metadata": {
        "id": "F6jQSEgfpi5V"
      }
    },
    {
      "cell_type": "code",
      "source": [
        "#Ans\n",
        "import numpy as np\n",
        "import matplotlib.pyplot as plt\n",
        "\n",
        "# Sample datasets\n",
        "data1 = np.array([85, 78, 90, 70, 95])\n",
        "data2 = np.array([88, 76, 92, 85, 90])\n",
        "\n",
        "plt.scatter(data1, data2, color='blue', edgecolors='black')\n",
        "plt.title('Scatter Plot: Relationship between Data1 and Data2')\n",
        "plt.xlabel('Data1')\n",
        "plt.ylabel('Data2')\n",
        "\n",
        "# Show plot\n",
        "plt.show()\n"
      ],
      "metadata": {
        "colab": {
          "base_uri": "https://localhost:8080/",
          "height": 472
        },
        "id": "Ku14Ltyvpn88",
        "outputId": "f6b4cb04-4420-4f45-a64b-4a487e6a413b"
      },
      "execution_count": 15,
      "outputs": [
        {
          "output_type": "display_data",
          "data": {
            "text/plain": [
              "<Figure size 640x480 with 1 Axes>"
            ],
            "image/png": "[encoded data removed]"
          },
          "metadata": {}
        }
      ]
    },
    {
      "cell_type": "markdown",
      "source": [
        "Qns-12 Implement and compare simple random sampling and systematic sampling?"
      ],
      "metadata": {
        "id": "DXveJkqMp0Lx"
      }
    },
    {
      "cell_type": "code",
      "source": [
        "#Ans\n",
        "import numpy as np\n",
        "import matplotlib.pyplot as plt\n",
        "\n",
        "data = np.arange(1, 101)\n",
        "\n",
        "# Simple Random Sampling (10 random samples)\n",
        "simple_random_sample = np.random.choice(data, size=10, replace=False)\n",
        "\n",
        "# Systematic Sampling (every 10th element)\n",
        "k = 10\n",
        "start = np.random.randint(0, k)\n",
        "systematic_sample = data[start::k]\n",
        "\n",
        "# Plotting\n",
        "plt.figure(figsize=(10, 6))\n",
        "plt.scatter(simple_random_sample, np.zeros_like(simple_random_sample), color='green', label='Random Sample')\n",
        "plt.scatter(systematic_sample, np.zeros_like(systematic_sample), color='red', label='Systematic Sample')\n",
        "plt.plot(data, np.zeros_like(data), 'bo', alpha=0.3, label='Original Data')\n",
        "plt.title(\"Comparison of Sampling Methods\")\n",
        "plt.legend()\n",
        "plt.show()\n"
      ],
      "metadata": {
        "colab": {
          "base_uri": "https://localhost:8080/",
          "height": 545
        },
        "id": "EPas1QrUp7TG",
        "outputId": "0bcd1045-c60a-418b-fe96-b1583135a8f5"
      },
      "execution_count": 16,
      "outputs": [
        {
          "output_type": "display_data",
          "data": {
            "text/plain": [
              "<Figure size 1000x600 with 1 Axes>"
            ],
            "image/png": "[encoded data removed]"
          },
          "metadata": {}
        }
      ]
    },
    {
      "cell_type": "markdown",
      "source": [
        "Qns-13 Calculate the mean, median, and mode of grouped data?"
      ],
      "metadata": {
        "id": "-gPe11D5rRwT"
      }
    },
    {
      "cell_type": "code",
      "source": [
        "#Ans\n",
        "import numpy as np\n",
        "\n",
        "# Grouped data (class intervals, frequency)\n",
        "class_intervals = [(0, 10), (10, 20), (20, 30), (30, 40), (40, 50)]\n",
        "frequencies = [5, 8, 12, 6, 4]\n",
        "\n",
        "# Midpoints of class intervals\n",
        "midpoints = [(a + b) / 2 for a, b in class_intervals]\n",
        "\n",
        "# Mean\n",
        "mean = np.sum(np.array(frequencies) * np.array(midpoints)) / np.sum(frequencies)\n",
        "\n",
        "# Median\n",
        "cum_freq = np.cumsum(frequencies)\n",
        "median_class = np.where(cum_freq >= np.sum(frequencies) / 2)[0][0]\n",
        "L = class_intervals[median_class][0]\n",
        "f1 = frequencies[median_class]\n",
        "cf = cum_freq[median_class - 1] if median_class > 0 else 0\n",
        "h = class_intervals[median_class][1] - class_intervals[median_class][0]\n",
        "median = L + ((np.sum(frequencies) / 2 - cf) / f1) * h\n",
        "\n",
        "# Mode\n",
        "mode_class = np.argmax(frequencies)\n",
        "L_mode = class_intervals[mode_class][0]\n",
        "f1_mode = frequencies[mode_class]\n",
        "f0_mode = frequencies[mode_class - 1] if mode_class > 0 else 0\n",
        "f2_mode = frequencies[mode_class + 1] if mode_class < len(frequencies) - 1 else 0\n",
        "mode = L_mode + ((f1_mode - f0_mode) / (2 * f1_mode - f0_mode - f2_mode)) * h\n",
        "\n",
        "# Print results\n",
        "print(f\"Mean: {mean:.2f}, Median: {median:.2f}, Mode: {mode:.2f}\")\n"
      ],
      "metadata": {
        "colab": {
          "base_uri": "https://localhost:8080/"
        },
        "id": "zg90ITYwr_tQ",
        "outputId": "000cfddd-1a6d-4797-f741-600ab03a4f32"
      },
      "execution_count": 17,
      "outputs": [
        {
          "output_type": "stream",
          "name": "stdout",
          "text": [
            "Mean: 23.86, Median: 23.75, Mode: 24.00\n"
          ]
        }
      ]
    },
    {
      "cell_type": "markdown",
      "source": [
        "Qns-14 Simulate data using Python and calculate its central tendency and dispersion?"
      ],
      "metadata": {
        "id": "bLUWEvCOsNQK"
      }
    },
    {
      "cell_type": "code",
      "source": [
        "#Ans\n",
        "import numpy as np\n",
        "import scipy.stats as stats\n",
        "\n",
        "data = np.random.normal(loc=50, scale=10, size=1000)  # Mean=50, Std Dev=10\n",
        "\n",
        "# Central Tendency\n",
        "mean = np.mean(data)\n",
        "median = np.median(data)\n",
        "mode = stats.mode(data)[0][0]  # Access mode from the ModeResult object\n",
        "\n",
        "# Dispersion\n",
        "variance = np.var(data)\n",
        "std_dev = np.std(data)\n",
        "data_range = np.max(data) - np.min(data)\n",
        "\n",
        "# Print results\n",
        "print(f\"Mean: {mean:.2f}\")\n",
        "print(f\"Median: {median:.2f}\")\n",
        "print(f\"Mode: {mode:.2f}\")\n",
        "print(f\"Variance: {variance:.2f}\")\n",
        "print(f\"Standard Deviation: {std_dev:.2f}\")\n",
        "print(f\"Range: {data_range:.2f}\")\n"
      ],
      "metadata": {
        "colab": {
          "base_uri": "https://localhost:8080/",
          "height": 211
        },
        "collapsed": true,
        "id": "TYFq7niQsTVw",
        "outputId": "b950eb6e-4383-447a-c45d-fc321baaefb1"
      },
      "execution_count": 20,
      "outputs": [
        {
          "output_type": "error",
          "ename": "IndexError",
          "evalue": "invalid index to scalar variable.",
          "traceback": [
            "\u001b[0;31m---------------------------------------------------------------------------\u001b[0m",
            "\u001b[0;31mIndexError\u001b[0m                                Traceback (most recent call last)",
            "\u001b[0;32m<ipython-input-20-ca125f9bf813>\u001b[0m in \u001b[0;36m<cell line: 0>\u001b[0;34m()\u001b[0m\n\u001b[1;32m      9\u001b[0m \u001b[0mmean\u001b[0m \u001b[0;34m=\u001b[0m \u001b[0mnp\u001b[0m\u001b[0;34m.\u001b[0m\u001b[0mmean\u001b[0m\u001b[0;34m(\u001b[0m\u001b[0mdata\u001b[0m\u001b[0;34m)\u001b[0m\u001b[0;34m\u001b[0m\u001b[0;34m\u001b[0m\u001b[0m\n\u001b[1;32m     10\u001b[0m \u001b[0mmedian\u001b[0m \u001b[0;34m=\u001b[0m \u001b[0mnp\u001b[0m\u001b[0;34m.\u001b[0m\u001b[0mmedian\u001b[0m\u001b[0;34m(\u001b[0m\u001b[0mdata\u001b[0m\u001b[0;34m)\u001b[0m\u001b[0;34m\u001b[0m\u001b[0;34m\u001b[0m\u001b[0m\n\u001b[0;32m---> 11\u001b[0;31m \u001b[0mmode\u001b[0m \u001b[0;34m=\u001b[0m \u001b[0mstats\u001b[0m\u001b[0;34m.\u001b[0m\u001b[0mmode\u001b[0m\u001b[0;34m(\u001b[0m\u001b[0mdata\u001b[0m\u001b[0;34m)\u001b[0m\u001b[0;34m[\u001b[0m\u001b[0;36m0\u001b[0m\u001b[0;34m]\u001b[0m\u001b[0;34m[\u001b[0m\u001b[0;36m1\u001b[0m\u001b[0;34m]\u001b[0m  \u001b[0;31m# Access mode from the ModeResult object\u001b[0m\u001b[0;34m\u001b[0m\u001b[0;34m\u001b[0m\u001b[0m\n\u001b[0m\u001b[1;32m     12\u001b[0m \u001b[0;34m\u001b[0m\u001b[0m\n\u001b[1;32m     13\u001b[0m \u001b[0;31m# Dispersion\u001b[0m\u001b[0;34m\u001b[0m\u001b[0;34m\u001b[0m\u001b[0m\n",
            "\u001b[0;31mIndexError\u001b[0m: invalid index to scalar variable."
          ]
        }
      ]
    },
    {
      "cell_type": "markdown",
      "source": [
        "Qns-15 Use NumPy or pandas to summarize a dataset’s descriptive statistics"
      ],
      "metadata": {
        "id": "DhB7Y8VRs-A8"
      }
    },
    {
      "cell_type": "code",
      "source": [
        "#Ans\n",
        "import pandas as pd\n",
        "\n",
        "data = {\n",
        "    'age': [22, 25, 30, 35, 40, 45, 50],\n",
        "    'height': [5.5, 5.7, 5.8, 6.0, 5.9, 5.6, 5.5],\n",
        "    'weight': [55, 65, 75, 85, 95, 100, 110]\n",
        "}\n",
        "df = pd.DataFrame(data)\n",
        "\n",
        "# Get summary statistics\n",
        "summary = df.describe()\n",
        "print(summary)\n"
      ],
      "metadata": {
        "colab": {
          "base_uri": "https://localhost:8080/"
        },
        "id": "AQ4OjcUmvfH8",
        "outputId": "e0bccab0-4375-4e3c-ed1f-207599572de0"
      },
      "execution_count": 22,
      "outputs": [
        {
          "output_type": "stream",
          "name": "stdout",
          "text": [
            "             age    height      weight\n",
            "count   7.000000  7.000000    7.000000\n",
            "mean   35.285714  5.714286   83.571429\n",
            "std    10.355583  0.195180   19.730325\n",
            "min    22.000000  5.500000   55.000000\n",
            "25%    27.500000  5.550000   70.000000\n",
            "50%    35.000000  5.700000   85.000000\n",
            "75%    42.500000  5.850000   97.500000\n",
            "max    50.000000  6.000000  110.000000\n"
          ]
        }
      ]
    },
    {
      "cell_type": "markdown",
      "source": [
        "Qns-16 Plot a boxplot to understand the spread and identify outliers?"
      ],
      "metadata": {
        "id": "By4JKNyVvvXz"
      }
    },
    {
      "cell_type": "code",
      "source": [
        "#ans\n",
        "import pandas as pd\n",
        "import seaborn as sns\n",
        "import matplotlib.pyplot as plt\n",
        "\n",
        "data = {\n",
        "    'age': [22, 25, 30, 35, 40, 45, 50],\n",
        "    'height': [5.5, 5.7, 5.8, 6.0, 5.9, 5.6, 5.5],\n",
        "    'weight': [55, 65, 75, 85, 95, 100, 110]\n",
        "}\n",
        "\n",
        "# Create a pandas DataFrame\n",
        "df = pd.DataFrame(data)\n",
        "\n",
        "# Plotting the boxplot\n",
        "plt.figure(figsize=(8,6))\n",
        "sns.boxplot(data=df)\n",
        "plt.title('Boxplot of Age, Height, and Weight')\n",
        "plt.show()\n"
      ],
      "metadata": {
        "colab": {
          "base_uri": "https://localhost:8080/",
          "height": 545
        },
        "id": "ohGU8zbXv1uv",
        "outputId": "1511b894-b628-47de-ba8f-ccd9cabcfa08"
      },
      "execution_count": 23,
      "outputs": [
        {
          "output_type": "display_data",
          "data": {
            "text/plain": [
              "<Figure size 800x600 with 1 Axes>"
            ],
            "image/png": "[encoded data removed]"
          },
          "metadata": {}
        }
      ]
    },
    {
      "cell_type": "markdown",
      "source": [
        "Qns-17 Calculate the interquartile range (IQR) of a dataset?"
      ],
      "metadata": {
        "id": "FQMF1m4wwBMN"
      }
    },
    {
      "cell_type": "code",
      "source": [
        "#Ans\n",
        "import numpy as np\n",
        "\n",
        "# Example dataset\n",
        "data = np.array([22, 25, 30, 35, 40, 45, 50])\n",
        "\n",
        "# Calculate Q1 and Q3\n",
        "Q1 = np.percentile(data, 25)\n",
        "Q3 = np.percentile(data, 75)\n",
        "\n",
        "# Calculate IQR\n",
        "IQR = Q3 - Q1\n",
        "\n",
        "print(f\"Q1: {Q1}, Q3: {Q3}\")\n",
        "print(f\"Interquartile Range (IQR): {IQR}\")\n"
      ],
      "metadata": {
        "colab": {
          "base_uri": "https://localhost:8080/"
        },
        "id": "Su_Kdwg1wGJf",
        "outputId": "d5e550c1-b30c-41bb-9f52-7a7018f72e02"
      },
      "execution_count": 24,
      "outputs": [
        {
          "output_type": "stream",
          "name": "stdout",
          "text": [
            "Q1: 27.5, Q3: 42.5\n",
            "Interquartile Range (IQR): 15.0\n"
          ]
        }
      ]
    },
    {
      "cell_type": "markdown",
      "source": [
        "Qns-18  Implement Z-score normalization and explain its significance?"
      ],
      "metadata": {
        "id": "3EubLvQWwTES"
      }
    },
    {
      "cell_type": "code",
      "source": [
        "#Ans\n",
        "import numpy as np\n",
        "data = np.array([22, 25, 30, 35, 40, 45, 50])\n",
        "mean = np.mean(data)\n",
        "std_dev = np.std(data)\n",
        "\n",
        "# Z-score normalization\n",
        "z_scores = (data - mean) / std_dev\n",
        "\n",
        "print(f\"Original Data: {data}\")\n",
        "print(f\"Mean: {mean}, Standard Deviation: {std_dev}\")\n",
        "print(f\"Z-scores: {z_scores}\")\n"
      ],
      "metadata": {
        "colab": {
          "base_uri": "https://localhost:8080/"
        },
        "id": "6YRA73CZwWzm",
        "outputId": "d4031fb3-547d-47e0-9132-0f2c2fe20eba"
      },
      "execution_count": 25,
      "outputs": [
        {
          "output_type": "stream",
          "name": "stdout",
          "text": [
            "Original Data: [22 25 30 35 40 45 50]\n",
            "Mean: 35.285714285714285, Standard Deviation: 9.587406706035724\n",
            "Z-scores: [-1.3857464  -1.07283592 -0.55131846 -0.029801    0.49171646  1.01323392\n",
            "  1.53475138]\n"
          ]
        }
      ]
    },
    {
      "cell_type": "markdown",
      "source": [
        "Qns-19 Compare two datasets using their standard deviations?"
      ],
      "metadata": {
        "id": "zNEtwnliwirr"
      }
    },
    {
      "cell_type": "code",
      "source": [
        "#Ans\n",
        "import numpy as np\n",
        "\n",
        "# Example datasets\n",
        "data1 = np.array([22, 25, 30, 35, 40, 45, 50])\n",
        "data2 = np.array([20, 22, 24, 26, 28, 30, 32])\n",
        "\n",
        "# Calculate standard deviations\n",
        "std_dev_data1 = np.std(data1)\n",
        "std_dev_data2 = np.std(data2)\n",
        "\n",
        "print(f\"Standard Deviation of Dataset 1: {std_dev_data1}\")\n",
        "print(f\"Standard Deviation of Dataset 2: {std_dev_data2}\")\n"
      ],
      "metadata": {
        "colab": {
          "base_uri": "https://localhost:8080/"
        },
        "id": "bf-EiGIUwmMX",
        "outputId": "03ce3761-bcb9-40ff-80a0-290cdd031435"
      },
      "execution_count": 26,
      "outputs": [
        {
          "output_type": "stream",
          "name": "stdout",
          "text": [
            "Standard Deviation of Dataset 1: 9.587406706035724\n",
            "Standard Deviation of Dataset 2: 4.0\n"
          ]
        }
      ]
    },
    {
      "cell_type": "markdown",
      "source": [
        "Qns-20 Write a Python program to visualize covariance using a heatmap?"
      ],
      "metadata": {
        "id": "jyGwiPQbwsMc"
      }
    },
    {
      "cell_type": "code",
      "source": [
        "#Ans\n",
        "import pandas as pd\n",
        "import seaborn as sns\n",
        "import matplotlib.pyplot as plt\n",
        "\n",
        "data = {\n",
        "    'age': [22, 25, 30, 35, 40, 45, 50],\n",
        "    'height': [5.5, 5.7, 5.8, 6.0, 5.9, 5.6, 5.5],\n",
        "    'weight': [55, 65, 75, 85, 95, 100, 110]\n",
        "}\n",
        "df = pd.DataFrame(data)\n",
        "\n",
        "# Calculate the covariance matrix\n",
        "cov_matrix = df.cov()\n",
        "\n",
        "# Plotting the heatmap\n",
        "plt.figure(figsize=(8, 6))\n",
        "sns.heatmap(cov_matrix, annot=True, cmap='coolwarm', fmt='.2f', cbar=True, square=True)\n",
        "\n",
        "# Title\n",
        "plt.title('Covariance Matrix Heatmap')\n",
        "\n",
        "# Show the plot\n",
        "plt.show()\n"
      ],
      "metadata": {
        "colab": {
          "base_uri": "https://localhost:8080/",
          "height": 545
        },
        "id": "qr8cSAugwyMx",
        "outputId": "004fa337-cb2d-415d-f35a-035a0036060d"
      },
      "execution_count": 27,
      "outputs": [
        {
          "output_type": "display_data",
          "data": {
            "text/plain": [
              "<Figure size 800x600 with 2 Axes>"
            ],
            "image/png": "[encoded data removed]"
          },
          "metadata": {}
        }
      ]
    },
    {
      "cell_type": "markdown",
      "source": [
        "Qns- 21 Use seaborn to create a correlation matrix for a dataset"
      ],
      "metadata": {
        "id": "dka8r9dCw7SM"
      }
    },
    {
      "cell_type": "code",
      "source": [
        "#Ans\n",
        "import pandas as pd\n",
        "import seaborn as sns\n",
        "import matplotlib.pyplot as plt\n",
        "\n",
        "data = {\n",
        "    'age': [22, 25, 30, 35, 40, 45, 50],\n",
        "    'height': [5.5, 5.7, 5.8, 6.0, 5.9, 5.6, 5.5],\n",
        "    'weight': [55, 65, 75, 85, 95, 100, 110]\n",
        "}\n",
        "df = pd.DataFrame(data)\n",
        "corr_matrix = df.corr()\n",
        "\n",
        "plt.figure(figsize=(8, 6))\n",
        "sns.heatmap(corr_matrix, annot=True, cmap='coolwarm', fmt='.2f', cbar=True, square=True)\n",
        "\n",
        "# Title\n",
        "plt.title('Correlation Matrix Heatmap')\n",
        "\n",
        "# Show the plot\n",
        "plt.show()\n"
      ],
      "metadata": {
        "colab": {
          "base_uri": "https://localhost:8080/",
          "height": 545
        },
        "id": "ausYxw_RxArG",
        "outputId": "0d6b15b7-b522-4ae9-d0ce-38585298d283"
      },
      "execution_count": 28,
      "outputs": [
        {
          "output_type": "display_data",
          "data": {
            "text/plain": [
              "<Figure size 800x600 with 2 Axes>"
            ],
            "image/png": "[encoded data removed]"
          },
          "metadata": {}
        }
      ]
    },
    {
      "cell_type": "markdown",
      "source": [
        "Qns-22 Generate a dataset and implement both variance and standard deviation computations?"
      ],
      "metadata": {
        "id": "6rIz1zFbxPJW"
      }
    },
    {
      "cell_type": "code",
      "source": [
        "#Ans\n",
        "import numpy as np\n",
        "\n",
        "# Step 1: Generate a random dataset (e.g., 10 integers between 50 and 100)\n",
        "np.random.seed(42)  # For reproducibility\n",
        "data = np.random.randint(50, 101, size=10)\n",
        "\n",
        "# Step 2: Compute variance and standard deviation\n",
        "# Use ddof=1 for sample statistics\n",
        "variance = np.var(data, ddof=1)\n",
        "std_deviation = np.std(data, ddof=1)\n",
        "\n",
        "# Step 3: Display results\n",
        "print(\"Generated Data:\", data)\n",
        "print(f\"Variance: {variance:.2f}\")\n",
        "print(f\"Standard Deviation: {std_deviation:.2f}\")\n"
      ],
      "metadata": {
        "colab": {
          "base_uri": "https://localhost:8080/"
        },
        "id": "5oUScZ_exWmC",
        "outputId": "0a11a361-a0cc-4dbb-a4fe-4aea382d634c"
      },
      "execution_count": 29,
      "outputs": [
        {
          "output_type": "stream",
          "name": "stdout",
          "text": [
            "Generated Data: [88 78 64 92 57 70 88 68 72 60]\n",
            "Variance: 152.46\n",
            "Standard Deviation: 12.35\n"
          ]
        }
      ]
    },
    {
      "cell_type": "markdown",
      "source": [
        "Qns-23  Visualize skewness and kurtosis using Python libraries like matplotlib or seaborn?"
      ],
      "metadata": {
        "id": "athjl869xu0c"
      }
    },
    {
      "cell_type": "code",
      "source": [
        "#Ans\n",
        "import numpy as np\n",
        "import seaborn as sns\n",
        "import matplotlib.pyplot as plt\n",
        "from scipy.stats import skew, kurtosis\n",
        "\n",
        "# Generate sample data (right-skewed)\n",
        "data = np.random.gamma(2, 2, 1000)\n",
        "\n",
        "# Plot distribution and show skewness/kurtosis\n",
        "sns.histplot(data, kde=True, color='skyblue')\n",
        "plt.title(f\"Skewness: {skew(data):.2f} | Kurtosis: {kurtosis(data):.2f}\")\n",
        "plt.xlabel(\"Value\")\n",
        "plt.ylabel(\"Frequency\")\n",
        "plt.show()\n"
      ],
      "metadata": {
        "colab": {
          "base_uri": "https://localhost:8080/",
          "height": 472
        },
        "id": "EtotO3Fyx1J2",
        "outputId": "4328749a-1fd9-4b16-d651-9714d58df32b"
      },
      "execution_count": 30,
      "outputs": [
        {
          "output_type": "display_data",
          "data": {
            "text/plain": [
              "<Figure size 640x480 with 1 Axes>"
            ],
            "image/png": "[encoded data removed]"
          },
          "metadata": {}
        }
      ]
    },
    {
      "cell_type": "markdown",
      "source": [
        "Qns-24 Implement the Pearson and Spearman correlation coefficients for a dataset."
      ],
      "metadata": {
        "id": "82yTx3zRyGnv"
      }
    },
    {
      "cell_type": "code",
      "source": [
        "#Ans\n",
        "import numpy as np\n",
        "from scipy.stats import pearsonr, spearmanr\n",
        "\n",
        "x = np.array([10, 20, 30, 40, 50])\n",
        "y = np.array([15, 25, 35, 45, 55])  # Perfect linear relationship\n",
        "\n",
        "# Step 2: Calculate Pearson and Spearman correlations\n",
        "pearson_corr, _ = pearsonr(x, y)\n",
        "spearman_corr, _ = spearmanr(x, y)\n",
        "\n",
        "# Step 3: Print results\n",
        "print(f\"Pearson Correlation: {pearson_corr:.2f}\")\n",
        "print(f\"Spearman Correlation: {spearman_corr:.2f}\")\n"
      ],
      "metadata": {
        "colab": {
          "base_uri": "https://localhost:8080/"
        },
        "id": "VV0kOPBByMGa",
        "outputId": "0b023a51-57df-4e05-d212-8e232b60b156"
      },
      "execution_count": 31,
      "outputs": [
        {
          "output_type": "stream",
          "name": "stdout",
          "text": [
            "Pearson Correlation: 1.00\n",
            "Spearman Correlation: 1.00\n"
          ]
        }
      ]
    }
  ]
}